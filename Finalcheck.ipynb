{
 "cells": [
  {
   "cell_type": "code",
   "execution_count": 5,
   "metadata": {},
   "outputs": [
    {
     "name": "stdout",
     "output_type": "stream",
     "text": [
      "Data saved to text_samples_features.json\n"
     ]
    }
   ],
   "source": [
    "import torch\n",
    "from transformers import RobertaTokenizer, RobertaForSequenceClassification\n",
    "import matplotlib.pyplot as plt\n",
    "import pandas as pd\n",
    "import json\n",
    "import random\n",
    "from lime.lime_text import LimeTextExplainer\n",
    "\n",
    "# Load your labeled data from the CSV file\n",
    "data = pd.read_csv('labeled-dataset.csv')\n",
    "\n",
    "# Sample 200 random texts from the data\n",
    "text_samples = data['text'].sample(n=200, random_state=42).tolist()\n",
    "\n",
    "from transformers import RobertaForSequenceClassification, RobertaTokenizer\n",
    "\n",
    "model = RobertaForSequenceClassification.from_pretrained('fine_tuned_roberta1')\n",
    "tokenizer = RobertaTokenizer.from_pretrained('roberta-base')\n",
    "\n",
    "# Replace this with your predict function for the fine-tuned RoBERTa model\n",
    "def predict_fn(texts):\n",
    "    inputs = tokenizer(texts, padding=True, truncation=True, max_length=128, return_tensors=\"pt\")\n",
    "    with torch.no_grad():\n",
    "        outputs = model(**inputs)\n",
    "    logits = outputs.logits\n",
    "    return logits\n",
    "\n",
    "# LimeTextExplainer instance\n",
    "explainer = LimeTextExplainer()\n",
    "\n",
    "# Number of features to display\n",
    "num_features = 10\n",
    "\n",
    "# List to store text samples and their feature importances as dictionaries\n",
    "data = []\n",
    "\n",
    "# Iterate over text samples for explanations\n",
    "for text in text_samples:\n",
    "    explanation = explainer.explain_instance(text, predict_fn, num_features=num_features)\n",
    "    feature_dict = {}\n",
    "    feature_dict['text'] = text\n",
    "\n",
    "    # Get feature names and importances\n",
    "    feature_names = explanation.as_list(label=1)  # Use label 1 for \"Human\" class\n",
    "    feature_names = feature_names[:num_features]  # Limit to num_features\n",
    "    feature_names, feature_importances = zip(*feature_names)\n",
    "\n",
    "    # Store top features and their importances in a dictionary\n",
    "    features_data = {}\n",
    "    for j, feature_name in enumerate(feature_names):\n",
    "        features_data[f\"Feature {j + 1}\"] = {\n",
    "            \"Name\": feature_name,\n",
    "            \"Importance\": feature_importances[j]\n",
    "        }\n",
    "\n",
    "    feature_dict['top_features'] = features_data\n",
    "    data.append(feature_dict)\n",
    "\n",
    "# Save the data to a JSON file\n",
    "with open('text_samples_features1.json', 'w') as outfile:\n",
    "    json.dump(data, outfile, indent=4)\n",
    "\n",
    "print(\"Data saved to text_samples_features.json\")\n"
   ]
  }
 ],
 "metadata": {
  "kernelspec": {
   "display_name": "Python 3",
   "language": "python",
   "name": "python3"
  },
  "language_info": {
   "codemirror_mode": {
    "name": "ipython",
    "version": 3
   },
   "file_extension": ".py",
   "mimetype": "text/x-python",
   "name": "python",
   "nbconvert_exporter": "python",
   "pygments_lexer": "ipython3",
   "version": "3.11.5"
  }
 },
 "nbformat": 4,
 "nbformat_minor": 2
}
